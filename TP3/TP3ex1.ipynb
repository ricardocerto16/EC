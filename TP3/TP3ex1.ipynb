{
 "cells": [
  {
   "cell_type": "markdown",
   "metadata": {
    "deletable": true,
    "editable": true
   },
   "source": [
    "# TP3ex1\n",
    "\n",
    "\n",
    "\n",
    "Com base no artigo de <i> Joseph Silverman </i> implementa-mos o esquema de assinaturas digitais NTRU Sign.\n",
    "\n",
    "\n"
   ]
  },
  {
   "cell_type": "code",
   "execution_count": 40,
   "metadata": {
    "collapsed": true,
    "deletable": true,
    "editable": true
   },
   "outputs": [],
   "source": [
    "from sage.crypto.util import ascii_to_bin"
   ]
  },
  {
   "cell_type": "markdown",
   "metadata": {},
   "source": [
    "Numa primeira fase na implementação do NTRU Sign começamos por gerar os parametros necessários e de seguida gerarmos os anéis necessários."
   ]
  },
  {
   "cell_type": "code",
   "execution_count": 41,
   "metadata": {
    "collapsed": true,
    "deletable": true,
    "editable": true
   },
   "outputs": [],
   "source": [
    "#parametros do NTRU Silverman\n",
    "\n",
    "N = 661\n",
    "p = 3\n",
    "q = 9829081\n",
    "B = 1487\n",
    "k = 10"
   ]
  },
  {
   "cell_type": "code",
   "execution_count": 42,
   "metadata": {
    "collapsed": true,
    "deletable": true,
    "editable": true
   },
   "outputs": [],
   "source": [
    "#Gerar os aneis (página 20)\n",
    "\n",
    "Zx.<x> = PolynomialRing(ZZ)\n",
    "Qx.<x> = PolynomialRing(GF(q))\n",
    "Px.<x> = PolynomialRing(GF(p))\n",
    "\n",
    "quo = x^N + 1\n",
    "\n",
    "Zxr.<x> = Zx.quotient(quo)\n",
    "Qxr.<x> = Qx.quotient(quo)\n",
    "Pxr.<x> = Px.quotient(quo)"
   ]
  },
  {
   "cell_type": "code",
   "execution_count": 43,
   "metadata": {
    "collapsed": true,
    "deletable": true,
    "editable": true
   },
   "outputs": [],
   "source": [
    "\n",
    "class NTRUSign:\n",
    "    def __init__(self):\n",
    "        #(página 30)\n",
    "        \n",
    "        # Parametros da chave pública e assinatura da chave\n",
    "    \n",
    "        # Gerar f e F\n",
    "        while True:\n",
    "            F=Zxr(Pxr.random_element())      #f random mod 3\n",
    "            f =  F * p                       #f=pF\n",
    "            if Qxr(f).is_unit() :\n",
    "                break\n",
    "                \n",
    "        # Gerar g\n",
    "        while True:\n",
    "            g = Zxr(Pxr.random_element())     #g random mod p\n",
    "            if Pxr(g).is_unit():\n",
    "                break\n",
    "           \n",
    "        # o par de vetores (f,g) representa a chave da assinatura\n",
    "        self.priv_key = (f, g)\n",
    "\n",
    "        \n",
    "        \n",
    "        # Processo de verificação da chave gerada anteriormente\n",
    "        #chave publica  =>   h= f^-1* g (mod q)\n",
    "        \n",
    "        self.h= 1 / Qxr(f) * Qxr(g)\n",
    "        \n",
    "\n",
    "  \n",
    "     #---- Digital Documents ---\n",
    "    def dochash(self, m):\n",
    "        #Teria de se verificar que (s,t) é próximo de (m1,m2). \n",
    "        #Desse modo, dividiu-se a mensagem em duas partes de igual tamanho.\n",
    "        \n",
    "        #lista com metade do tamanho da mensagem\n",
    "        size = floor(len(m)/2)\n",
    "        #vetor 1  tem metade para a frente da mensagem\n",
    "        one = m[:size]\n",
    "        #vetor 2  primeira metade\n",
    "        two = m[size:]\n",
    "        res1 = list()\n",
    "        res2 = list()\n",
    "\n",
    " \n",
    "        #Converteu-se cada elemento de caracter para número (ord).\n",
    "        #Depois colocou-se esse valor em mod 2, assim só retorna 0 e 1. \n",
    "        #Para sair do ciclo, tem de se subtrair 2 e o próprio valor do elemento, ficando um valor negativo.\n",
    "        \n",
    "        #primeiro vetor\n",
    "        for ele in one:\n",
    "            ascii = ord(ele)\n",
    "            while ascii >= 0:\n",
    "                rest = ascii % 2\n",
    "                res1.append(rest)\n",
    "                ascii = ascii - 2 - rest\n",
    "\n",
    "        # segundo vetor\n",
    "        for ele in two:\n",
    "            ascii = ord(ele)\n",
    "            while ascii >= 0:\n",
    "                rest = ascii %2\n",
    "                res2.append(rest)\n",
    "                ascii = ascii - 2 - rest \n",
    "                \n",
    "                \n",
    "                h1=Zx(res1)\n",
    "                h2=Zx(res2)\n",
    "        return (h1,h2)\n",
    "\n",
    "    # assinatura da mensagem\n",
    "    def assinar(self,(sp, tp)):\n",
    "        #(pagina 31)\n",
    "        boundary = floor(q/2*p - 0.5)       #o valor de r tem de ser menor ou igual a q/2*p - 0.5 \n",
    "        while True:\n",
    "            while True:\n",
    "                r = Zxr.random_element()\n",
    "                if abs(min(r)) <= boundary:\n",
    "                    break\n",
    "            s0 = Zxr(sp) + p*r                                        #s0=sp+pr\n",
    "            t0 = Qxr(self.h) * Qxr(s0)     #t0=h*s0 (mod q)\n",
    "            a = 1/Pxr(self.priv_key[1]) * (Pxr(tp) - Pxr(Zxr(t0)))  #a=g^-1*(tp-t0)(mod p)\n",
    "            s = Zxr(s0) + Zxr(a) * Zxr(self.priv_key[0])     #s=s0+a*f #f estÃ¡ na posiÃ§Ã£o 0 dos vetores\n",
    "            t = Zxr(t0) + Zxr(a) * Zxr(self.priv_key[1])     #t=t0+a*g #g estÃ¡ na posiÃ§Ã£o 1 dos vetores\n",
    "            if abs(min(s)) <= floor(q*0.5 - B) or abs(min(t)) <= floor(q*0.5 - B) :     #confirma-se que q Ã© menor que o limite estipulado\n",
    "                break\n",
    "        return (s,t)\n",
    "\n",
    "    def validar(self, (sp, tp), (s,t)):\n",
    "        boundary = floor(q*0.5 - B)\n",
    "        if Qxr(s) * Qxr(self.h) == Qxr(t) and (Pxr(s), Pxr(t)) == (Pxr(sp), Pxr(tp)) and abs(min(s)) and abs(min(t)) <= boundary:\n",
    "            return True\n",
    "        return False\n",
    "\n",
    "\n"
   ]
  },
  {
   "cell_type": "code",
   "execution_count": 44,
   "metadata": {
    "collapsed": false,
    "deletable": true,
    "editable": true
   },
   "outputs": [
    {
     "name": "stdout",
     "output_type": "stream",
     "text": [
      "True\n"
     ]
    }
   ],
   "source": [
    "K = NTRUSign()\n",
    "m = \"Mensagem de para assinar.\"\n",
    "(sp, tp) = K.dochash(m)\n",
    "(s, t) = K.assinar((sp, tp))\n",
    "print(K.validar((sp, tp), (s, t)))"
   ]
  }
 ],
 "metadata": {
  "kernelspec": {
   "display_name": "Python 2",
   "language": "python",
   "name": "python2"
  },
  "language_info": {
   "codemirror_mode": {
    "name": "ipython",
    "version": 2
   },
   "file_extension": ".py",
   "mimetype": "text/x-python",
   "name": "python",
   "nbconvert_exporter": "python",
   "pygments_lexer": "ipython2",
   "version": "2.7.13"
  }
 },
 "nbformat": 4,
 "nbformat_minor": 2
}
