{
 "cells": [
  {
   "cell_type": "code",
   "execution_count": null,
   "metadata": {
    "collapsed": true
   },
   "outputs": [],
   "source": [
    "# Curva P-192 do FIPS 186-4 \n",
    "\n",
    "class MyEDSA():\n",
    "    \n",
    "#tabelamento da curga P-192    \n",
    "  NIST = dict()\n",
    "    NIST['P-192'] =  {\n",
    "         'p': 6277101735386680763835789423207666416083908700390324961279,\n",
    "         'n': 6277101735386680763835789423176059013767194773182842284081,\n",
    "         'seed' : '3045ae6fc8422f64ed579528d38120eae12196d5',\n",
    "         'c': '3099d2bbbfcb2538542dcd5fb078b6ef5f3d6fe2c745de65',\n",
    "         'b': '64210519e59c80e70fa7e9ab72243049feb8deecc146b9b1',\n",
    "         'Gx' : '188da80eb03090f67cbf20eb43a18800f4ff0afd82ff1012',\n",
    "         'Gy' : '07192b95ffc8da78631011ed6b24cdd573f977a11e794811'\n",
    "        }  \n",
    "\n",
    "# E : y^2 = x^3 - 3*x + b (mod p)\n",
    "\n",
    "    def _init_():\n",
    "        c = NIST['P-192']\n",
    "        p = c['p']\n",
    "        n = c['n']\n",
    "        b = ZZ(c['b'],16)\n",
    "        Gx = ZZ(c['Gx'],16)\n",
    "        Gy = ZZ(c['Gy'],16)\n",
    "        \n",
    "        E = EllipticCurve(GF(p),[-3,b])\n",
    "        G = E((Gx,Gy))\n",
    "        # print E\n",
    "        # print \n",
    "        # print \"G = \", G\n",
    "        \n",
    "    \n",
    "    def verify():\n",
    "        # Verificar se G tem ordem n \n",
    "        print G * n \n",
    "\n",
    "        # Verificar a estrutura de grupo abeliano na órbita de G\n",
    "        i = ZZ.random_element(1,n-1) ; j = ZZ.random_element(1,n-1)\n",
    "        print G*i, G*j  \n",
    "        print G*i + G*j\n",
    "        print G*(i+j)\n",
    "        \n",
    "        P = E.random_point()\n",
    "        # Verificar se P aleatório está na órbita de G é equivalente a resolver o problema do logaritmo discreto nesta curva\n",
    "        # Mas pode-se ver algumas propriedades\n",
    "        m = P.order()\n",
    "        # G.discrete_log(P)\n",
    "        # Conjunto dos pontos P tais que  G * m == P\n",
    "        m=7\n",
    "        G.division_points(m)"
   ]
  }
 ],
 "metadata": {
  "kernelspec": {
   "display_name": "Python 2",
   "language": "python",
   "name": "python2"
  },
  "language_info": {
   "codemirror_mode": {
    "name": "ipython",
    "version": 2
   },
   "file_extension": ".py",
   "mimetype": "text/x-python",
   "name": "python",
   "nbconvert_exporter": "python",
   "pygments_lexer": "ipython2",
   "version": "2.7.13"
  }
 },
 "nbformat": 4,
 "nbformat_minor": 0
}
