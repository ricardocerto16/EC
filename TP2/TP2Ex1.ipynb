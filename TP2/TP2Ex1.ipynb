{
 "cells": [
  {
   "cell_type": "code",
   "execution_count": 4,
   "metadata": {
    "collapsed": true
   },
   "outputs": [],
   "source": [
    "def rprime(l):\n",
    "        return random_prime(2**l-1,True,2**(l-1))"
   ]
  },
  {
   "cell_type": "code",
   "execution_count": 5,
   "metadata": {
    "collapsed": true
   },
   "outputs": [],
   "source": [
    "l = 1024\n",
    "\n",
    "q = rprime(l)\n",
    "p = rprime(l+1)\n",
    "\n",
    "N = p * q \n",
    "phi = (p-1)*(q-1)\n",
    "\n",
    "G = IntegerModRing(phi) \n",
    "R = IntegerModRing(N)\n",
    "\n",
    "e = G(rprime(512))\n",
    "s = 1/e"
   ]
  },
  {
   "cell_type": "code",
   "execution_count": 6,
   "metadata": {
    "collapsed": true
   },
   "outputs": [],
   "source": [
    "def cifrar(m):\n",
    "    a = R(m)\n",
    "    cm = a**e\n",
    "    return cm\n",
    "def decifrar(cm):\n",
    "    b=R(cm)\n",
    "    dm = b**s\n",
    "    return dm"
   ]
  },
  {
   "cell_type": "code",
   "execution_count": 7,
   "metadata": {
    "collapsed": false
   },
   "outputs": [
    {
     "name": "stdout",
     "output_type": "stream",
     "text": [
      "253\n",
      "7044826919434495340194289228815456845673955169873883566219188697811842148824618392449872986419437349391443321334700833802288637702174024060146948354213283343603021909407973224686466097159933947958372643426688014976573091447294520142301798810293792693082022941297741499768541932326779266011788828369297483936326702244473087635096563548527115301171153028829985529764792998666261654066233017524814295243414305767272899731671609451521351176036182273020770318934399342983829300161772727868026549190973337049068877024329134978651496147699081228694044425649411586796489187998351344467419110677910991074703723494281041120706\n",
      "True\n"
     ]
    }
   ],
   "source": [
    "from random import randint\n",
    "\n",
    "mens = randint(0,256)\n",
    "print mens\n",
    "c = cifrar(mens)\n",
    "print c\n",
    "dec = decifrar(c)\n",
    "print mens == dec"
   ]
  }
 ],
 "metadata": {
  "kernelspec": {
   "display_name": "SageMath 8.1",
   "language": "",
   "name": "sagemath"
  },
  "language_info": {
   "codemirror_mode": {
    "name": "ipython",
    "version": 2
   },
   "file_extension": ".py",
   "mimetype": "text/x-python",
   "name": "python",
   "nbconvert_exporter": "python",
   "pygments_lexer": "ipython2",
   "version": "2.7.14"
  }
 },
 "nbformat": 4,
 "nbformat_minor": 2
}
