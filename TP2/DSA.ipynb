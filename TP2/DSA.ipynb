{
 "cells": [
  {
   "cell_type": "code",
   "execution_count": null,
   "metadata": {
    "collapsed": true
   },
   "outputs": [],
   "source": [
    "# DSA -> ElGamal\n",
    "\n",
    "# https://github.com/guanzhi/CryptoWithSageMath/blob/master/elgamal.sage\n",
    "\n",
    "# tópico i) está done\n",
    "# tópico ii) \n",
    "# http://www.sagemath.org/files/kohel-book-2008.pdf -> pag.84\n",
    "\n"
   ]
  }
 ],
 "metadata": {
  "kernelspec": {
   "display_name": "Python 2",
   "language": "python",
   "name": "python2"
  },
  "language_info": {
   "codemirror_mode": {
    "name": "ipython",
    "version": 2
   },
   "file_extension": ".py",
   "mimetype": "text/x-python",
   "name": "python",
   "nbconvert_exporter": "python",
   "pygments_lexer": "ipython2",
   "version": "2.7.13"
  }
 },
 "nbformat": 4,
 "nbformat_minor": 0
}
