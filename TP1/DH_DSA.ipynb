{
 "cells": [
  {
   "cell_type": "markdown",
   "metadata": {},
   "source": [
    "Numa primeira fase precisamos de gerar os parâmetros envolvidos na geração de chaves do protocolo DH e do DSA."
   ]
  },
  {
   "cell_type": "code",
   "execution_count": 5,
   "metadata": {},
   "outputs": [],
   "source": [
    "from cryptography.hazmat.backends import default_backend\n",
    "from cryptography.hazmat.primitives.asymmetric import dh,dsa\n",
    "from cryptography.hazmat.primitives import serialization,hashes\n",
    "from getpass import getpass\n",
    "from cryptography.exceptions import *\n",
    "\n",
    "# Generate some parameters DH\n",
    "parameters_dh = dh.generate_parameters(generator=2, key_size=1024,\n",
    "                                     backend=default_backend())\n",
    "\n",
    "# Generate some parameters DSA\n",
    "parameters_dsa = dsa.generate_parameters(key_size=1024,backend=default_backend())"
   ]
  },
  {
   "cell_type": "code",
   "execution_count": 6,
   "metadata": {},
   "outputs": [],
   "source": [
    "from BiConn import BiConn\n",
    "from Auxs   import hashs\n",
    "import getpass, os, io\n",
    "\n",
    "def Dh(conn):\n",
    "    # agreement\n",
    "    pk = parameters_dh.generate_private_key()\n",
    "    pub = pk.public_key().public_bytes(\n",
    "            encoding=serialization.Encoding.PEM,\n",
    "            format=serialization.PublicFormat.SubjectPublicKeyInfo)\n",
    "    \n",
    "    \n",
    "    conn.send(pub)\n",
    "    \n",
    "    # shared_key calculation\n",
    "    peer_pub_key = serialization.load_pem_public_key(\n",
    "            conn.recv(),\n",
    "            backend=default_backend())\n",
    "    shared_key   = pk.exchange(peer_pub_key)\n",
    "    \n",
    "    # confirmation\n",
    "    my_tag = hashs(bytes(shared_key))\n",
    "    conn.send(my_tag)\n",
    "    peer_tag = conn.recv()\n",
    "    if my_tag == peer_tag:\n",
    "        print('OK DH')\n",
    "    else:\n",
    "        print('FAIL DH')\n",
    "    \n",
    "    \n",
    "    private_key_dsa = parameters_dsa.generate_private_key()\n",
    "    pub_dsa = private_key_dsa.public_key().public_bytes(\n",
    "            encoding=serialization.Encoding.PEM,\n",
    "            format=serialization.PublicFormat.SubjectPublicKeyInfo)\n",
    "    conn.send(pub_dsa)\n",
    "\n",
    "    \n",
    "    sig = private_key_dsa.sign(pub,hashes.SHA256())\n",
    "    peer_pub_dsa = serialization.load_pem_public_key( \n",
    "        conn.recv(), \n",
    "        backend=default_backend())  \n",
    "    conn.send((sig,pub))\n",
    "    \n",
    "    try:\n",
    "        sig,pub = conn.recv()\n",
    "        peer_pub_dsa.verify = (sig, pub, hashes.SHA256())\n",
    "        print(\"DSA ok\")\n",
    "    except InvalidSignature:\n",
    "        print(\"fail DSA\")"
   ]
  },
  {
   "cell_type": "code",
   "execution_count": 8,
   "metadata": {},
   "outputs": [
    {
     "name": "stdout",
     "output_type": "stream",
     "text": [
      "OK DH\n",
      "OK DH\n",
      "DSA ok\n",
      "DSA ok\n"
     ]
    }
   ],
   "source": [
    "BiConn(Dh,Dh).auto()"
   ]
  },
  {
   "cell_type": "code",
   "execution_count": null,
   "metadata": {
    "collapsed": true
   },
   "outputs": [],
   "source": []
  }
 ],
 "metadata": {
  "kernelspec": {
   "display_name": "Python 3",
   "language": "python",
   "name": "python3"
  },
  "language_info": {
   "codemirror_mode": {
    "name": "ipython",
    "version": 3
   },
   "file_extension": ".py",
   "mimetype": "text/x-python",
   "name": "python",
   "nbconvert_exporter": "python",
   "pygments_lexer": "ipython3",
   "version": "3.5.2"
  }
 },
 "nbformat": 4,
 "nbformat_minor": 1
}
