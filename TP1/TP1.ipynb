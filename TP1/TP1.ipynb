{
 "cells": [
  {
   "cell_type": "code",
   "execution_count": 2,
   "metadata": {},
   "outputs": [],
   "source": [
    "import os, io\n",
    "from getpass import getpass\n",
    "from BiConn import BiConn\n",
    "from Auxs   import hashs\n",
    "from cryptography.hazmat.primitives.kdf.pbkdf2 import PBKDF2HMAC\n",
    "from cryptography.hazmat.primitives.ciphers import Cipher, algorithms, modes\n",
    "from cryptography.exceptions import *\n",
    "from cryptography.hazmat.backends import default_backend\n",
    "from cryptography.hazmat.primitives import hashes, hmac, cmac\n",
    "from cryptography.hazmat.primitives.asymmetric import dh,dsa\n",
    "from cryptography.hazmat.primitives import serialization,hashes\n",
    "\n",
    "# Generate some parameters DH\n",
    "parameters_dh = dh.generate_parameters(generator=2, key_size=1024,\n",
    "                                     backend=default_backend())\n",
    "\n",
    "# Generate some parameters DSA\n",
    "parameters_dsa = dsa.generate_parameters(key_size=1024,backend=default_backend())\n",
    "\n",
    "default_algorithm = hashes.SHA256\n",
    "# seleciona-se um dos vários algorimos implementados na package\n",
    "\n",
    "def my_mac(key):\n",
    "     return hmac.HMAC(key,default_algorithm(),default_backend())"
   ]
  },
  {
   "cell_type": "markdown",
   "metadata": {},
   "source": [
    "## Diffie Hellman & DSA"
   ]
  },
  {
   "cell_type": "code",
   "execution_count": 3,
   "metadata": {},
   "outputs": [],
   "source": [
    "def Dh(conn):\n",
    "    # agreement\n",
    "    pk = parameters_dh.generate_private_key()\n",
    "    pub = pk.public_key().public_bytes(\n",
    "            encoding=serialization.Encoding.PEM,\n",
    "            format=serialization.PublicFormat.SubjectPublicKeyInfo)\n",
    "    conn.send(pub)\n",
    "\n",
    "    \n",
    "    # shared_key calculation\n",
    "    peer_pub = conn.recv()\n",
    "    peer_pub_key = serialization.load_pem_public_key(\n",
    "            peer_pub,\n",
    "            backend=default_backend())\n",
    "    shared_key = pk.exchange(peer_pub_key)\n",
    "    \n",
    "    # confirmation\n",
    "    my_tag = hashs(bytes(shared_key))\n",
    "    conn.send(my_tag)\n",
    "    peer_tag = conn.recv()\n",
    "    if my_tag == peer_tag:\n",
    "        print('OK DH')\n",
    "    else:\n",
    "        print('FAIL DH')\n",
    "        \n",
    "    \n",
    "    #ASSINAR\n",
    "    \n",
    "   #gerar as chaves privada e pública\n",
    "    private_key_dsa = parameters_dsa.generate_private_key()\n",
    "    pub_dsa = private_key_dsa.public_key().public_bytes( \n",
    "            encoding=serialization.Encoding.PEM,\n",
    "            format=serialization.PublicFormat.SubjectPublicKeyInfo)\n",
    "    \n",
    "    #envia a chave pública\n",
    "    conn.send(pub_dsa)\n",
    "    \n",
    "    #cálculo da assinatura\n",
    "    signature = private_key_dsa.sign(pub, hashes.SHA256())\n",
    "   \n",
    "    peer_pub_dsa =serialization.load_pem_public_key(\n",
    "        conn.recv(), \n",
    "        backend=default_backend())  \n",
    "    \n",
    "    \n",
    "    conn.send(signature)\n",
    "    \n",
    "    \n",
    "    #verificar\n",
    "    \n",
    "    \n",
    "    try:\n",
    "        sig = conn.recv()\n",
    "        peer_pub_dsa.verify(sig, peer_pub, hashes.SHA256())\n",
    "        print(\"ok dh\")\n",
    "        return my_tag\n",
    "    except InvalidSignature:\n",
    "        print(\"fail dh\")"
   ]
  },
  {
   "cell_type": "markdown",
   "metadata": {},
   "source": [
    "## Emitter"
   ]
  },
  {
   "cell_type": "code",
   "execution_count": 4,
   "metadata": {},
   "outputs": [],
   "source": [
    "message_size = 2**10\n",
    "\n",
    "def Emitter(conn):\n",
    "    # Acordo de chaves DH e assinatura DSA\n",
    "    key = Dh(conn)\n",
    "    \n",
    "    # Mensagem\n",
    "    inputs = io.BytesIO(bytes('1'*message_size,'utf-8'))\n",
    "    \n",
    "    # nonce para a cifra\n",
    "    nonce  = os.urandom(16)\n",
    "    \n",
    "    # Cifra\n",
    "    cipher = Cipher(algorithms.AES(key), modes.CTR(nonce), \n",
    "                        backend=default_backend()).encryptor()\n",
    "    \n",
    "    # HMAC\n",
    "    mac = my_mac(key)\n",
    "    \n",
    "    conn.send(nonce) # Envio do nonce\n",
    "    buffer = bytearray(32) # Buffer onde vão ser lidos os blocos\n",
    "    \n",
    "    # lê, cifra e envia sucessivos blocos do input \n",
    "    try:     \n",
    "        while inputs.readinto(buffer): \n",
    "            ciphertext = cipher.update(bytes(buffer))\n",
    "            mac.update(ciphertext)\n",
    "            conn.send((ciphertext, mac.copy().finalize()))         \n",
    "\n",
    "        conn.send((cipher.finalize(), mac.finalize()))    # envia a finalização\n",
    "    except Exception as err:\n",
    "        print(\"Erro no emissor: {0}\".format(err))\n",
    "\n",
    "    inputs.close()          # fecha a 'input stream'\n",
    "    conn.close()            # fecha a conecção"
   ]
  },
  {
   "cell_type": "markdown",
   "metadata": {},
   "source": [
    "## Receiver"
   ]
  },
  {
   "cell_type": "code",
   "execution_count": 5,
   "metadata": {},
   "outputs": [],
   "source": [
    "def Receiver(conn):\n",
    "    # Acordo de chaves DH e assinatura DSA\n",
    "    key = Dh(conn)\n",
    "    \n",
    "    # Inicializa um output stream para receber o texto decifrado\n",
    "    outputs = io.BytesIO()\n",
    "    \n",
    "    # Recebe o nonce\n",
    "    nonce = conn.recv()\n",
    "    \n",
    "    # Cifra\n",
    "    cipher = Cipher(algorithms.AES(key), modes.CTR(nonce), \n",
    "                        backend=default_backend()).decryptor()\n",
    "    \n",
    "    # HMAC\n",
    "    mac = my_mac(key)\n",
    "    \n",
    "    # operar a cifra: ler da conecção um bloco, autenticá-lo, decifrá-lo e escrever o resultado no 'stream' de output\n",
    "    try:\n",
    "        while True:\n",
    "            try:\n",
    "                buffer, tag = conn.recv()\n",
    "                ciphertext = bytes(buffer)\n",
    "                mac.update(ciphertext)\n",
    "                if tag != mac.copy().finalize():\n",
    "                    raise InvalidSignature(\"erro no bloco intermédio\")\n",
    "                outputs.write(cipher.update(ciphertext))\n",
    "                if not buffer:\n",
    "                    if tag != mac.finalize():\n",
    "                        raise InvalidSignature(\"erro na finalização\")                \n",
    "                    outputs.write(cipher.finalize())\n",
    "                    break\n",
    "                    \n",
    "            except InvalidSignature as err:\n",
    "                raise Exception(\"autenticação do ciphertext ou metadados: {}\".format(err))\n",
    "        print(outputs.getvalue())     # verificar o resultado\n",
    "        \n",
    "    except Exception as err:\n",
    "        print(\"Erro no receptor: {0}\".format(err))\n",
    "        \n",
    "    outputs.close()    # fechar 'stream' de output\n",
    "    conn.close()       # fechar a conecção"
   ]
  },
  {
   "cell_type": "code",
   "execution_count": 6,
   "metadata": {},
   "outputs": [
    {
     "name": "stdout",
     "output_type": "stream",
     "text": [
      "OK DH\n",
      "OK DH\n",
      "ok dh\n",
      "ok dh\n",
      "b'1111111111111111111111111111111111111111111111111111111111111111111111111111111111111111111111111111111111111111111111111111111111111111111111111111111111111111111111111111111111111111111111111111111111111111111111111111111111111111111111111111111111111111111111111111111111111111111111111111111111111111111111111111111111111111111111111111111111111111111111111111111111111111111111111111111111111111111111111111111111111111111111111111111111111111111111111111111111111111111111111111111111111111111111111111111111111111111111111111111111111111111111111111111111111111111111111111111111111111111111111111111111111111111111111111111111111111111111111111111111111111111111111111111111111111111111111111111111111111111111111111111111111111111111111111111111111111111111111111111111111111111111111111111111111111111111111111111111111111111111111111111111111111111111111111111111111111111111111111111111111111111111111111111111111111111111111111111111111111111111111111111111111111111111111111111111111111111111111111111111111111'\n"
     ]
    }
   ],
   "source": [
    "BiConn(Emitter, Receiver, timeout=30).auto()"
   ]
  },
  {
   "cell_type": "code",
   "execution_count": null,
   "metadata": {},
   "outputs": [],
   "source": []
  }
 ],
 "metadata": {
  "kernelspec": {
   "display_name": "Python 3",
   "language": "python",
   "name": "python3"
  },
  "language_info": {
   "codemirror_mode": {
    "name": "ipython",
    "version": 3
   },
   "file_extension": ".py",
   "mimetype": "text/x-python",
   "name": "python",
   "nbconvert_exporter": "python",
   "pygments_lexer": "ipython3",
   "version": "3.5.2"
  }
 },
 "nbformat": 4,
 "nbformat_minor": 2
}
