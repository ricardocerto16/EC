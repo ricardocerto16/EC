{
 "cells": [
  {
   "cell_type": "code",
   "execution_count": 1,
   "metadata": {},
   "outputs": [],
   "source": [
    "import os, io\n",
    "from getpass import getpass\n",
    "from BiConn import BiConn\n",
    "from Auxs   import hashs\n",
    "from cryptography.hazmat.primitives.kdf.pbkdf2 import PBKDF2HMAC\n",
    "from cryptography.hazmat.primitives.ciphers import Cipher, algorithms, modes\n",
    "from cryptography.exceptions import *\n",
    "from cryptography.hazmat.backends import default_backend\n",
    "from cryptography.hazmat.primitives import hashes, hmac, cmac\n",
    "from cryptography.hazmat.primitives.asymmetric import dh,dsa\n",
    "from cryptography.hazmat.primitives import serialization,hashes\n",
    "\n",
    "# Generate some parameters DH\n",
    "parameters_dh = dh.generate_parameters(generator=2, key_size=1024,\n",
    "                                     backend=default_backend())\n",
    "\n",
    "# Generate some parameters DSA\n",
    "parameters_dsa = dsa.generate_parameters(key_size=1024,backend=default_backend())\n",
    "\n",
    "default_algorithm = hashes.SHA256\n",
    "# seleciona-se um dos vários algorimos implementados na package\n",
    "\n",
    "def my_mac(key):\n",
    "#    return hashes.Hash(default_algorithm(),backend=default_backend())\n",
    "     return hmac.HMAC(key,default_algorithm(),default_backend())\n",
    "#    return cmac.CMAC(algorithms.AES(key), backend=default_backend())"
   ]
  },
  {
   "cell_type": "markdown",
   "metadata": {},
   "source": [
    "## Diffie Hellman & DSA"
   ]
  },
  {
   "cell_type": "code",
   "execution_count": 18,
   "metadata": {},
   "outputs": [],
   "source": [
    "def Dh(conn):\n",
    "    # agreement\n",
    "    pk = parameters_dh.generate_private_key()\n",
    "    pub = pk.public_key().public_bytes(\n",
    "            encoding=serialization.Encoding.PEM,\n",
    "            format=serialization.PublicFormat.SubjectPublicKeyInfo)\n",
    "    conn.send(pub)\n",
    "\n",
    "    \n",
    "    # shared_key calculation\n",
    "    peer_pub = conn.recv()\n",
    "    peer_pub_key = serialization.load_pem_public_key(\n",
    "            peer_pub,\n",
    "            backend=default_backend())\n",
    "    shared_key = pk.exchange(peer_pub_key)\n",
    "    \n",
    "    # confirmation\n",
    "    my_tag = hashs(bytes(shared_key))\n",
    "    conn.send(my_tag)\n",
    "    peer_tag = conn.recv()\n",
    "    if my_tag == peer_tag:\n",
    "        print('OK')\n",
    "    else:\n",
    "        print('FAIL')\n",
    "        \n",
    "    \n",
    "    #ASSINAR\n",
    "    \n",
    "   #gerar as chaves privada e pública\n",
    "    private_key_dsa = parameters_dsa.generate_private_key()\n",
    "    pub_dsa = private_key_dsa.public_key().public_bytes( \n",
    "            encoding=serialization.Encoding.PEM,\n",
    "            format=serialization.PublicFormat.SubjectPublicKeyInfo)\n",
    "    \n",
    "    #envia a chave pública\n",
    "    conn.send(pub_dsa)\n",
    "    \n",
    "    #cálculo da assinatura\n",
    "    signature = private_key_dsa.sign(pub, hashes.SHA256())\n",
    "   \n",
    "    peer_pub_dsa =serialization.load_pem_public_key(\n",
    "        conn.recv(), \n",
    "        backend=default_backend())  \n",
    "    \n",
    "    \n",
    "    conn.send(signature)\n",
    "    \n",
    "    \n",
    "    #verificar\n",
    "    \n",
    "    \n",
    "    try:\n",
    "        sig = conn.recv()\n",
    "        peer_pub_dsa.verify(sig, peer_pub, hashes.SHA256())\n",
    "        print(\"ok\")\n",
    "        return my_tag\n",
    "    except InvalidSignature:\n",
    "        print(\"fail\")"
   ]
  },
  {
   "cell_type": "markdown",
   "metadata": {},
   "source": [
    "## Emitter"
   ]
  },
  {
   "cell_type": "code",
   "execution_count": 19,
   "metadata": {},
   "outputs": [],
   "source": [
    "message_size = 2**10\n",
    "\n",
    "def Emitter(conn):\n",
    "    # Acordo de chaves DH e assinatura DSA\n",
    "    key = Dh(conn)\n",
    "    \n",
    "    # Mensagem\n",
    "    inputs = io.BytesIO(bytes('1'*message_size,'utf-8'))\n",
    "    \n",
    "    # nonce para a cifra\n",
    "    nonce  = os.urandom(16)\n",
    "    \n",
    "    # Cifra\n",
    "    cipher = Cipher(algorithms.AES(key), modes.CTR(nonce), \n",
    "                        backend=default_backend()).encryptor()\n",
    "    \n",
    "    # HMAC\n",
    "    mac = my_mac(key)\n",
    "    \n",
    "    conn.send(nonce) # Envio do nonce\n",
    "    buffer = bytearray(32) # Buffer onde vão ser lidos os blocos\n",
    "    \n",
    "    # lê, cifra e envia sucessivos blocos do input \n",
    "    try:     \n",
    "        while inputs.readinto(buffer): \n",
    "            ciphertext = cipher.update(bytes(buffer))\n",
    "            mac.update(ciphertext)\n",
    "            conn.send((ciphertext, mac.copy().finalize()))         \n",
    "\n",
    "        conn.send((cipher.finalize(), mac.finalize()))    # envia a finalização\n",
    "    except Exception as err:\n",
    "        print(\"Erro no emissor: {0}\".format(err))\n",
    "\n",
    "    inputs.close()          # fecha a 'input stream'\n",
    "    conn.close()            # fecha a conecção"
   ]
  },
  {
   "cell_type": "markdown",
   "metadata": {},
   "source": [
    "## Receiver"
   ]
  },
  {
   "cell_type": "code",
   "execution_count": 20,
   "metadata": {},
   "outputs": [],
   "source": [
    "def Receiver(conn):\n",
    "    # Acordo de chaves DH e assinatura DSA\n",
    "    key = Dh(conn)\n",
    "    \n",
    "    # Inicializa um output stream para receber o texto decifrado\n",
    "    outputs = io.BytesIO()\n",
    "    \n",
    "    # Recebe o nonce\n",
    "    nonce = conn.recv()\n",
    "    \n",
    "    # Cifra\n",
    "    cipher = Cipher(algorithms.AES(key), modes.CTR(nonce), \n",
    "                        backend=default_backend()).decryptor()\n",
    "    \n",
    "    # HMAC\n",
    "    mac = my_mac(key)\n",
    "    \n",
    "    # operar a cifra: ler da conecção um bloco, autenticá-lo, decifrá-lo e escrever o resultado no 'stream' de output\n",
    "    try:\n",
    "        while True:\n",
    "            try:\n",
    "                buffer, tag = conn.recv()\n",
    "                ciphertext = bytes(buffer)\n",
    "                mac.update(ciphertext)\n",
    "                if tag != mac.copy().finalize():\n",
    "                    raise InvalidSignature(\"erro no bloco intermédio\")\n",
    "                outputs.write(cipher.update(ciphertext))\n",
    "\n",
    "            except EOFError:\n",
    "                if tag != mac.finalize():\n",
    "                    raise InvalidSignature(\"erro na finalização\")                \n",
    "                outputs.write(cipher.finalize())\n",
    "                break\n",
    "            except InvalidSignature as err:\n",
    "                raise Exception(\"autenticação do ciphertext ou metadados: {}\".format(err))\n",
    "        \n",
    "        print(outputs.getvalue())     # verificar o resultado\n",
    "        \n",
    "    except Exception as err:\n",
    "        print(\"Erro no receptor: {0}\".format(err))\n",
    "        \n",
    "    outputs.close()    # fechar 'stream' de output\n",
    "    conn.close()       # fechar a conecção"
   ]
  },
  {
   "cell_type": "code",
   "execution_count": 24,
   "metadata": {},
   "outputs": [
    {
     "name": "stdout",
     "output_type": "stream",
     "text": [
      "OK\n",
      "OK\n",
      "ok\n",
      "ok\n"
     ]
    },
    {
     "name": "stderr",
     "output_type": "stream",
     "text": [
      "Process Process-22:\n"
     ]
    },
    {
     "ename": "KeyboardInterrupt",
     "evalue": "",
     "output_type": "error",
     "traceback": [
      "\u001b[0;31m---------------------------------------------------------------------------\u001b[0m",
      "\u001b[0;31mKeyboardInterrupt\u001b[0m                         Traceback (most recent call last)",
      "\u001b[0;32m<ipython-input-24-10fe9ac5904f>\u001b[0m in \u001b[0;36m<module>\u001b[0;34m()\u001b[0m\n\u001b[0;32m----> 1\u001b[0;31m \u001b[0mBiConn\u001b[0m\u001b[0;34m(\u001b[0m\u001b[0mEmitter\u001b[0m\u001b[0;34m,\u001b[0m \u001b[0mReceiver\u001b[0m\u001b[0;34m,\u001b[0m \u001b[0mtimeout\u001b[0m\u001b[0;34m=\u001b[0m\u001b[0;36m30\u001b[0m\u001b[0;34m)\u001b[0m\u001b[0;34m.\u001b[0m\u001b[0mauto\u001b[0m\u001b[0;34m(\u001b[0m\u001b[0;34m)\u001b[0m\u001b[0;34m\u001b[0m\u001b[0m\n\u001b[0m",
      "\u001b[0;32m~/Desktop/CSI/EC/EC/TP1/BiConn.py\u001b[0m in \u001b[0;36mauto\u001b[0;34m(self, proc)\u001b[0m\n\u001b[1;32m     22\u001b[0m             \u001b[0mself\u001b[0m\u001b[0;34m.\u001b[0m\u001b[0mrproc\u001b[0m\u001b[0;34m.\u001b[0m\u001b[0mstart\u001b[0m\u001b[0;34m(\u001b[0m\u001b[0;34m)\u001b[0m\u001b[0;34m\u001b[0m\u001b[0m\n\u001b[1;32m     23\u001b[0m             \u001b[0mself\u001b[0m\u001b[0;34m.\u001b[0m\u001b[0mlproc\u001b[0m\u001b[0;34m.\u001b[0m\u001b[0mjoin\u001b[0m\u001b[0;34m(\u001b[0m\u001b[0mself\u001b[0m\u001b[0;34m.\u001b[0m\u001b[0mtimeout\u001b[0m\u001b[0;34m)\u001b[0m\u001b[0;34m\u001b[0m\u001b[0m\n\u001b[0;32m---> 24\u001b[0;31m             \u001b[0mself\u001b[0m\u001b[0;34m.\u001b[0m\u001b[0mrproc\u001b[0m\u001b[0;34m.\u001b[0m\u001b[0mjoin\u001b[0m\u001b[0;34m(\u001b[0m\u001b[0mself\u001b[0m\u001b[0;34m.\u001b[0m\u001b[0mtimeout\u001b[0m\u001b[0;34m)\u001b[0m\u001b[0;34m\u001b[0m\u001b[0m\n\u001b[0m\u001b[1;32m     25\u001b[0m         \u001b[0;32melse\u001b[0m\u001b[0;34m:\u001b[0m                        \u001b[0;31m# corre só o processo passado como parâmetro\u001b[0m\u001b[0;34m\u001b[0m\u001b[0m\n\u001b[1;32m     26\u001b[0m             \u001b[0mproc\u001b[0m\u001b[0;34m.\u001b[0m\u001b[0mstart\u001b[0m\u001b[0;34m(\u001b[0m\u001b[0;34m)\u001b[0m\u001b[0;34m;\u001b[0m \u001b[0mproc\u001b[0m\u001b[0;34m.\u001b[0m\u001b[0mjoin\u001b[0m\u001b[0;34m(\u001b[0m\u001b[0;34m)\u001b[0m\u001b[0;34m\u001b[0m\u001b[0m\n",
      "\u001b[0;32m/usr/lib/python3.5/multiprocessing/process.py\u001b[0m in \u001b[0;36mjoin\u001b[0;34m(self, timeout)\u001b[0m\n\u001b[1;32m    119\u001b[0m         \u001b[0;32massert\u001b[0m \u001b[0mself\u001b[0m\u001b[0;34m.\u001b[0m\u001b[0m_parent_pid\u001b[0m \u001b[0;34m==\u001b[0m \u001b[0mos\u001b[0m\u001b[0;34m.\u001b[0m\u001b[0mgetpid\u001b[0m\u001b[0;34m(\u001b[0m\u001b[0;34m)\u001b[0m\u001b[0;34m,\u001b[0m \u001b[0;34m'can only join a child process'\u001b[0m\u001b[0;34m\u001b[0m\u001b[0m\n\u001b[1;32m    120\u001b[0m         \u001b[0;32massert\u001b[0m \u001b[0mself\u001b[0m\u001b[0;34m.\u001b[0m\u001b[0m_popen\u001b[0m \u001b[0;32mis\u001b[0m \u001b[0;32mnot\u001b[0m \u001b[0;32mNone\u001b[0m\u001b[0;34m,\u001b[0m \u001b[0;34m'can only join a started process'\u001b[0m\u001b[0;34m\u001b[0m\u001b[0m\n\u001b[0;32m--> 121\u001b[0;31m         \u001b[0mres\u001b[0m \u001b[0;34m=\u001b[0m \u001b[0mself\u001b[0m\u001b[0;34m.\u001b[0m\u001b[0m_popen\u001b[0m\u001b[0;34m.\u001b[0m\u001b[0mwait\u001b[0m\u001b[0;34m(\u001b[0m\u001b[0mtimeout\u001b[0m\u001b[0;34m)\u001b[0m\u001b[0;34m\u001b[0m\u001b[0m\n\u001b[0m\u001b[1;32m    122\u001b[0m         \u001b[0;32mif\u001b[0m \u001b[0mres\u001b[0m \u001b[0;32mis\u001b[0m \u001b[0;32mnot\u001b[0m \u001b[0;32mNone\u001b[0m\u001b[0;34m:\u001b[0m\u001b[0;34m\u001b[0m\u001b[0m\n\u001b[1;32m    123\u001b[0m             \u001b[0m_children\u001b[0m\u001b[0;34m.\u001b[0m\u001b[0mdiscard\u001b[0m\u001b[0;34m(\u001b[0m\u001b[0mself\u001b[0m\u001b[0;34m)\u001b[0m\u001b[0;34m\u001b[0m\u001b[0m\n",
      "\u001b[0;32m/usr/lib/python3.5/multiprocessing/popen_fork.py\u001b[0m in \u001b[0;36mwait\u001b[0;34m(self, timeout)\u001b[0m\n\u001b[1;32m     46\u001b[0m             \u001b[0;32mif\u001b[0m \u001b[0mtimeout\u001b[0m \u001b[0;32mis\u001b[0m \u001b[0;32mnot\u001b[0m \u001b[0;32mNone\u001b[0m\u001b[0;34m:\u001b[0m\u001b[0;34m\u001b[0m\u001b[0m\n\u001b[1;32m     47\u001b[0m                 \u001b[0;32mfrom\u001b[0m \u001b[0mmultiprocessing\u001b[0m\u001b[0;34m.\u001b[0m\u001b[0mconnection\u001b[0m \u001b[0;32mimport\u001b[0m \u001b[0mwait\u001b[0m\u001b[0;34m\u001b[0m\u001b[0m\n\u001b[0;32m---> 48\u001b[0;31m                 \u001b[0;32mif\u001b[0m \u001b[0;32mnot\u001b[0m \u001b[0mwait\u001b[0m\u001b[0;34m(\u001b[0m\u001b[0;34m[\u001b[0m\u001b[0mself\u001b[0m\u001b[0;34m.\u001b[0m\u001b[0msentinel\u001b[0m\u001b[0;34m]\u001b[0m\u001b[0;34m,\u001b[0m \u001b[0mtimeout\u001b[0m\u001b[0;34m)\u001b[0m\u001b[0;34m:\u001b[0m\u001b[0;34m\u001b[0m\u001b[0m\n\u001b[0m\u001b[1;32m     49\u001b[0m                     \u001b[0;32mreturn\u001b[0m \u001b[0;32mNone\u001b[0m\u001b[0;34m\u001b[0m\u001b[0m\n\u001b[1;32m     50\u001b[0m             \u001b[0;31m# This shouldn't block if wait() returned successfully.\u001b[0m\u001b[0;34m\u001b[0m\u001b[0;34m\u001b[0m\u001b[0m\n",
      "\u001b[0;32m/usr/lib/python3.5/multiprocessing/connection.py\u001b[0m in \u001b[0;36mwait\u001b[0;34m(object_list, timeout)\u001b[0m\n\u001b[1;32m    909\u001b[0m \u001b[0;34m\u001b[0m\u001b[0m\n\u001b[1;32m    910\u001b[0m             \u001b[0;32mwhile\u001b[0m \u001b[0;32mTrue\u001b[0m\u001b[0;34m:\u001b[0m\u001b[0;34m\u001b[0m\u001b[0m\n\u001b[0;32m--> 911\u001b[0;31m                 \u001b[0mready\u001b[0m \u001b[0;34m=\u001b[0m \u001b[0mselector\u001b[0m\u001b[0;34m.\u001b[0m\u001b[0mselect\u001b[0m\u001b[0;34m(\u001b[0m\u001b[0mtimeout\u001b[0m\u001b[0;34m)\u001b[0m\u001b[0;34m\u001b[0m\u001b[0m\n\u001b[0m\u001b[1;32m    912\u001b[0m                 \u001b[0;32mif\u001b[0m \u001b[0mready\u001b[0m\u001b[0;34m:\u001b[0m\u001b[0;34m\u001b[0m\u001b[0m\n\u001b[1;32m    913\u001b[0m                     \u001b[0;32mreturn\u001b[0m \u001b[0;34m[\u001b[0m\u001b[0mkey\u001b[0m\u001b[0;34m.\u001b[0m\u001b[0mfileobj\u001b[0m \u001b[0;32mfor\u001b[0m \u001b[0;34m(\u001b[0m\u001b[0mkey\u001b[0m\u001b[0;34m,\u001b[0m \u001b[0mevents\u001b[0m\u001b[0;34m)\u001b[0m \u001b[0;32min\u001b[0m \u001b[0mready\u001b[0m\u001b[0;34m]\u001b[0m\u001b[0;34m\u001b[0m\u001b[0m\n",
      "\u001b[0;32m/usr/lib/python3.5/selectors.py\u001b[0m in \u001b[0;36mselect\u001b[0;34m(self, timeout)\u001b[0m\n\u001b[1;32m    374\u001b[0m             \u001b[0mready\u001b[0m \u001b[0;34m=\u001b[0m \u001b[0;34m[\u001b[0m\u001b[0;34m]\u001b[0m\u001b[0;34m\u001b[0m\u001b[0m\n\u001b[1;32m    375\u001b[0m             \u001b[0;32mtry\u001b[0m\u001b[0;34m:\u001b[0m\u001b[0;34m\u001b[0m\u001b[0m\n\u001b[0;32m--> 376\u001b[0;31m                 \u001b[0mfd_event_list\u001b[0m \u001b[0;34m=\u001b[0m \u001b[0mself\u001b[0m\u001b[0;34m.\u001b[0m\u001b[0m_poll\u001b[0m\u001b[0;34m.\u001b[0m\u001b[0mpoll\u001b[0m\u001b[0;34m(\u001b[0m\u001b[0mtimeout\u001b[0m\u001b[0;34m)\u001b[0m\u001b[0;34m\u001b[0m\u001b[0m\n\u001b[0m\u001b[1;32m    377\u001b[0m             \u001b[0;32mexcept\u001b[0m \u001b[0mInterruptedError\u001b[0m\u001b[0;34m:\u001b[0m\u001b[0;34m\u001b[0m\u001b[0m\n\u001b[1;32m    378\u001b[0m                 \u001b[0;32mreturn\u001b[0m \u001b[0mready\u001b[0m\u001b[0;34m\u001b[0m\u001b[0m\n",
      "\u001b[0;31mKeyboardInterrupt\u001b[0m: "
     ]
    },
    {
     "name": "stderr",
     "output_type": "stream",
     "text": [
      "Traceback (most recent call last):\n",
      "  File \"/usr/lib/python3.5/multiprocessing/process.py\", line 249, in _bootstrap\n",
      "    self.run()\n",
      "  File \"/usr/lib/python3.5/multiprocessing/process.py\", line 93, in run\n",
      "    self._target(*self._args, **self._kwargs)\n",
      "  File \"<ipython-input-20-f0096520669e>\", line 22, in Receiver\n",
      "    buffer, tag = conn.recv()\n",
      "  File \"/usr/lib/python3.5/multiprocessing/connection.py\", line 250, in recv\n",
      "    buf = self._recv_bytes()\n",
      "  File \"/usr/lib/python3.5/multiprocessing/connection.py\", line 407, in _recv_bytes\n",
      "    buf = self._recv(4)\n",
      "  File \"/usr/lib/python3.5/multiprocessing/connection.py\", line 379, in _recv\n",
      "    chunk = read(handle, remaining)\n",
      "KeyboardInterrupt\n"
     ]
    }
   ],
   "source": [
    "BiConn(Emitter, Receiver, timeout=30).auto()"
   ]
  },
  {
   "cell_type": "code",
   "execution_count": null,
   "metadata": {},
   "outputs": [],
   "source": []
  }
 ],
 "metadata": {
  "kernelspec": {
   "display_name": "Python 3",
   "language": "python",
   "name": "python3"
  },
  "language_info": {
   "codemirror_mode": {
    "name": "ipython",
    "version": 3
   },
   "file_extension": ".py",
   "mimetype": "text/x-python",
   "name": "python",
   "nbconvert_exporter": "python",
   "pygments_lexer": "ipython3",
   "version": "3.5.2"
  }
 },
 "nbformat": 4,
 "nbformat_minor": 2
}
