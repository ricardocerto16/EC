{
 "cells": [
  {
   "cell_type": "markdown",
   "metadata": {},
   "source": [
    "1.ii"
   ]
  },
  {
   "cell_type": "code",
   "execution_count": 17,
   "metadata": {},
   "outputs": [],
   "source": [
    "from cryptography.hazmat.backends import default_backend\n",
    "from cryptography.hazmat.primitives.asymmetric import dh, dsa\n",
    "from cryptography.hazmat.primitives import serialization, hashes\n",
    "from getpass import getpass\n",
    "import getpass, os, io\n",
    "from cryptography.exceptions import *\n",
    "\n",
    "default_algorithm = hashes.SHA256\n",
    "\n",
    "# Gerar os parâmetros\n",
    "\n",
    "parameters = dh.generate_parameters(generator=2, key_size=1024,\n",
    "                                     backend=default_backend())\n",
    "\n",
    "parameters_dsa = dsa.generate_parameters(key_size=1024, backend=default_backend())\n",
    "\n",
    "def Hash(s):\n",
    "    digest = hashes.Hash(default_algorithm(),backend=default_backend())\n",
    "    digest.update(s)\n",
    "    return digest.finalize()"
   ]
  },
  {
   "cell_type": "code",
   "execution_count": 18,
   "metadata": {},
   "outputs": [],
   "source": [
    "def Alice(conn):\n",
    "    # agreement\n",
    "    pk = parameters.generate_private_key()\n",
    "    pub = pk.public_key().public_bytes(\n",
    "            encoding=serialization.Encoding.PEM,\n",
    "            format=serialization.PublicFormat.SubjectPublicKeyInfo)\n",
    "    conn.send(pub)\n",
    "\n",
    "    \n",
    "    # shared_key calculation\n",
    "    peer_pub_key = serialization.load_pem_public_key(\n",
    "            conn.recv(),\n",
    "            backend=default_backend())\n",
    "    shared_key = pk.exchange(peer_pub_key)\n",
    "    \n",
    "    # confirmation\n",
    "    my_tag = Hash(bytes(shared_key))\n",
    "    conn.send(my_tag)\n",
    "    peer_tag = conn.recv()\n",
    "    if my_tag == peer_tag:\n",
    "        print('OK')\n",
    "    else:\n",
    "        print('FAIL')\n",
    "\n",
    "    #ASSINAR\n",
    "    \n",
    "   #gerar as chaves privada e pública\n",
    "    private_key_dsa = parameters_dsa.generate_private_key()\n",
    "    pub_dsa = private_key_dsa.public_key().public_bytes( \n",
    "            encoding=serialization.Encoding.PEM,\n",
    "            format=serialization.PublicFormat.SubjectPublicKeyInfo)\n",
    "    \n",
    "    #envia a chave pública\n",
    "    conn.send(pub_dsa)\n",
    "    \n",
    "    #cálculo da assinatura\n",
    "    signature = sig = private_key_dsa.sign(pub, hashes.SHA256())\n",
    "   \n",
    "    peer_pub_dsa =serialization.load_pem_public_key( #vou deserializa-la\n",
    "        conn.recv(), #agora recebo o a^y\n",
    "        backend=default_backend())  \n",
    "    \n",
    "    \n",
    "    conn.send(signature)\n",
    "    \n",
    "    \n",
    "    #verificar\n",
    "    \n",
    "    \n",
    "    try:\n",
    "        peer = conn.recv()\n",
    "        peer_pub_dsa.verify = (peer, peer_pub_key, hashes.SHA256())\n",
    "        print(\"ok\")\n",
    "    except InvalidSignature:\n",
    "        print(\"fail\")"
   ]
  },
  {
   "cell_type": "code",
   "execution_count": 19,
   "metadata": {},
   "outputs": [],
   "source": [
    "import os\n",
    "from getpass import getpass\n",
    "from multiprocessing import Process, Pipe\n",
    "\n",
    "    \n",
    "class BiConn(object):\n",
    "    def __init__(self,left,right,timeout=None):\n",
    "        \"\"\"\n",
    "        left : a função que vei ligar ao lado esquerdo do Pipe\n",
    "        right: a função que vai ligar ao outro lado\n",
    "        timeout: (opcional) numero de segundos que aguarda pela terminação do processo\n",
    "        \"\"\"\n",
    "        left_end, right_end = Pipe()\n",
    "        self.timeout=timeout\n",
    "        self.lproc = Process(target=left, args=(left_end,))       # os processos ligados ao Pipe\n",
    "        self.rproc = Process(target=right, args=(right_end,))\n",
    "        self.left  = lambda : left(left_end)                       # as funções ligadas já ao Pipe\n",
    "        self.right = lambda : right(right_end)\n",
    "    \n",
    "    def auto(self, proc=None):\n",
    "        if proc == None:             # corre os dois processos independentes\n",
    "            self.lproc.start()\n",
    "            self.rproc.start()  \n",
    "            self.lproc.join(self.timeout)\n",
    "            self.rproc.join(self.timeout)\n",
    "        else:                        # corre só o processo passado como parâmetro\n",
    "            proc.start(); proc.join()\n",
    "    \n",
    "    def manual(self):   #  corre as duas funções no contexto de um mesmo processo Python\n",
    "        self.left()\n",
    "        self.right()"
   ]
  },
  {
   "cell_type": "code",
   "execution_count": 20,
   "metadata": {},
   "outputs": [
    {
     "name": "stdout",
     "output_type": "stream",
     "text": [
      "OK\n",
      "OK\n",
      "ok\n",
      "ok\n"
     ]
    }
   ],
   "source": [
    "BiConn(Alice,Alice).auto()"
   ]
  },
  {
   "cell_type": "code",
   "execution_count": null,
   "metadata": {},
   "outputs": [],
   "source": []
  }
 ],
 "metadata": {
  "kernelspec": {
   "display_name": "Python 3",
   "language": "python",
   "name": "python3"
  },
  "language_info": {
   "codemirror_mode": {
    "name": "ipython",
    "version": 3
   },
   "file_extension": ".py",
   "mimetype": "text/x-python",
   "name": "python",
   "nbconvert_exporter": "python",
   "pygments_lexer": "ipython3",
   "version": "3.6.3"
  }
 },
 "nbformat": 4,
 "nbformat_minor": 2
}
