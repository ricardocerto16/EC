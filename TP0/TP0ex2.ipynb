{
 "cells": [
  {
   "cell_type": "code",
   "execution_count": 28,
   "metadata": {
    "collapsed": false
   },
   "outputs": [
    {
     "name": "stdout",
     "output_type": "stream",
     "text": [
      "b\"{\\x93\\xf6B\\x11\\xdf\\xb5\\x06gSB\\xee>\\x1b\\xdd\\xab\\x0f\\x01\\x8a\\xa1\\x9a(\\x85Z^\\x8ca6\\xe7\\xbcdb.[(\\x18\\x0cu\\xebR\\xd4\\x19\\xc8\\x9d\\xffN\\x96t\\\\.c [J\\x86\\xd7\\xfb'-\\xdc\\xf9\\x1c\\x91X\"\n"
     ]
    }
   ],
   "source": [
    "#EMITTER\n",
    "\n",
    "import os\n",
    "from cryptography.hazmat.primitives.ciphers.aead import ChaCha20Poly1305\n",
    "#from Crypto.Cipher import Salsa20\n",
    "#from Crypto.Hash import HMAC, SHA256\n",
    "#from Crypto.Random import get_random_bytes\n",
    "from cryptography.hazmat.primitives.kdf.pbkdf2 import PBKDF2HMAC\n",
    "from cryptography.hazmat.primitives import hashes\n",
    "from cryptography.hazmat.primitives.ciphers import Cipher, algorithms, modes\n",
    "from cryptography.hazmat.backends import default_backend\n",
    "\n",
    "msg = b\"Hello World\"\n",
    "ads = b\"authenticated but unencrypted data\"\n",
    "backend = default_backend()\n",
    "salt = os.urandom(16)\n",
    "kdf = PBKDF2HMAC(\n",
    "    algorithm=hashes.SHA256(),\n",
    "    length=64,\n",
    "    salt=salt,\n",
    "    iterations=100000,\n",
    "    backend=backend\n",
    "    )\n",
    "password = b\"Password 123\"\n",
    "key = kdf.derive(password)\n",
    "\n",
    "print(key)\n",
    "\n",
    "\n",
    "# falta cifrar as cenas\n",
    "# guardar o salt e a pass pq o receiver tem que derivar com a mesma pass\n",
    "\n",
    "\n"
   ]
  },
  {
   "cell_type": "code",
   "execution_count": null,
   "metadata": {
    "collapsed": true
   },
   "outputs": [],
   "source": [
    "# RECIVER\n",
    "\n",
    "# Authenticated encryption\n",
    "# https://cryptography.io/en/latest/hazmat/primitives/aead/?highlight=stream%20cipher\n",
    "\n",
    "# Symmetric encryption\n",
    "# https://cryptography.io/en/latest/hazmat/primitives/symmetric-encryption/"
   ]
  },
  {
   "cell_type": "code",
   "execution_count": null,
   "metadata": {
    "collapsed": true
   },
   "outputs": [],
   "source": []
  }
 ],
 "metadata": {
  "kernelspec": {
   "display_name": "Python 3",
   "language": "python",
   "name": "python3"
  },
  "language_info": {
   "codemirror_mode": {
    "name": "ipython",
    "version": 3
   },
   "file_extension": ".py",
   "mimetype": "text/x-python",
   "name": "python",
   "nbconvert_exporter": "python",
   "pygments_lexer": "ipython3",
   "version": "3.6.2"
  }
 },
 "nbformat": 4,
 "nbformat_minor": 0
}
