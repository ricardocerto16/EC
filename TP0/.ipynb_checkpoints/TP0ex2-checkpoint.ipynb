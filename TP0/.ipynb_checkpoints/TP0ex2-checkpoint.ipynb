{
 "cells": [
  {
   "cell_type": "markdown",
   "metadata": {},
   "source": [
    "<b> Exercício 2 - Comunicação privada assíncrona </b>\n",
    "\n",
    "Pretende-se implementar uma comunicação cifrada em regime assíncrono entre um agente <b>Emitter</b> e um <b>Receiver</b>.\n",
    "A classe *BiConn* serve para a criação dos dois processos necessários para a execução da comunicação, mais concretamente a função \"Pipe\".\n",
    "Um dos lados envia a mensagem pretendida e fecha a ligação, e do outro lado é recebida a mensagem, e a ligação é fechada também.\n"
   ]
  },
  {
   "cell_type": "code",
   "execution_count": 6,
   "metadata": {},
   "outputs": [],
   "source": [
    "import os, lorem, sys\n",
    "from getpass import *\n",
    "from multiprocessing import Process, Pipe\n",
    "from pickle import *\n",
    "from base64 import b64encode, b64decode\n",
    "\n",
    "class BiConn(object):\n",
    "    def __init__(self,left,right,timeout=None):\n",
    "        \"\"\"\n",
    "        left : a função que vei ligar ao lado esquerdo do Pipe\n",
    "        right: a função que vai ligar ao outro lado\n",
    "        timeout: (opcional) numero de segundos que aguarda pela terminação do processo\n",
    "        \"\"\"\n",
    "        left_end, right_end = Pipe()\n",
    "        self.timeout=timeout\n",
    "        self.lproc = Process(target=left, args=(left_end,))       # os processos ligados ao Pipe\n",
    "        self.rproc = Process(target=right, args=(right_end,))\n",
    "        self.left  = lambda : left(left_end)                       # as funções ligadas já ao Pipe\n",
    "        self.right = lambda : right(right_end)\n",
    "\n",
    "    def auto(self, proc=None):\n",
    "        if proc == None:             # corre os dois processos independentes\n",
    "            self.lproc.start()\n",
    "            self.rproc.start()\n",
    "            self.lproc.join(self.timeout)\n",
    "            self.rproc.join(self.timeout)\n",
    "        else:                        # corre só o processo passado como parâmetro\n",
    "            proc.start(); proc.join()\n",
    "\n",
    "    def manual(self):   #  corre as duas funções no contexto de um mesmo processo Python\n",
    "        self.left()\n",
    "        self.right()"
   ]
  },
  {
   "cell_type": "markdown",
   "metadata": {},
   "source": [
    "Definiu-se as funções de <b>KDF</b>, <b>MAC</b> e <b>Hash</b>.\n",
    "\n",
    "As passwords escolhidas pelos utilizadores são facilmente memorizáveis, simples e pouca complexidade. É por isso que se usa uma <b>Key Derivation funtion </b> pois existe uma transformação dessas passwords, passando a ficar reconhecíveis pelas máquinas, mas muito dificilmente pelos humanos, aumentando assim a proteção do sistema.\n",
    "\n",
    "<b>Message Authentication Code </b> é uma ferramente que serve para autenticar a mesagem passada na ligação dos agentes.\n",
    "\n",
    "<b>Hash</b>"
   ]
  },
  {
   "cell_type": "code",
   "execution_count": 7,
   "metadata": {},
   "outputs": [],
   "source": [
    "from cryptography.hazmat.primitives.kdf.pbkdf2 import PBKDF2HMAC\n",
    "from cryptography.hazmat.primitives import hashes, hmac\n",
    "from cryptography.hazmat.primitives.ciphers import Cipher, algorithms, modes\n",
    "from cryptography.hazmat.backends import default_backend\n",
    "from cryptography.hazmat.primitives.ciphers.aead import AESGCM\n",
    "\n",
    "default_algorithm = hashes.SHA256\n",
    "\n",
    "#função hash\n",
    "def Hash(s):\n",
    "    digest = hashes.Hash(default_algorithm(),backend=default_backend())\n",
    "    digest.update(s)\n",
    "    return digest.finalize()\n",
    "\n",
    "# key derivation function\n",
    "\n",
    "def kdf(salt):\n",
    "    return PBKDF2HMAC(\n",
    "        algorithm=default_algorithm(),   # SHA256  \n",
    "        length=32,\n",
    "        salt=salt, \n",
    "        iterations=100000,\n",
    "        backend=default_backend()        # openssl\n",
    "        )\n",
    "# message authentication code\n",
    "def mac(key,source, tag=None):\n",
    "    h = hmac.HMAC(key,default_algorithm(),default_backend())\n",
    "    h.update(source)\n",
    "    if tag == None:\n",
    "        return h.finalize()\n",
    "    h.verify(tag)"
   ]
  },
  {
   "cell_type": "markdown",
   "metadata": {},
   "source": [
    "O <b> Emitter </b> recebe a mensagem a cifrar, produzindo uma cifra correspondente a essa mensagem, cifra essa que foi calculada usando a cifra *Advanced Encryption Standard*, um algoritmo de criptografia de chave simétrica que usa cifra por blocos.\n"
   ]
  },
  {
   "cell_type": "code",
   "execution_count": 8,
   "metadata": {},
   "outputs": [],
   "source": [
    "my_salt=os.urandom(16) #informação aleatório para ser usada na kdf\n",
    "metadata = os.urandom(1024) #associated data\n",
    "\n",
    "def Emitter(conn):\n",
    "    password=bytes(getpass('Password do emissor:'),'utf-8')\n",
    "    plaintext = bytes(input('Mensagem a cifrar:'), 'utf-8')\n",
    "\n",
    "    \n",
    "    try:\n",
    "        key = kdf(my_salt).derive(password)\n",
    "        iv = os.urandom(16) #initialization vector\n",
    "        hash_key = Hash(key)\n",
    "        tag = mac(hash_key,plaintext)\n",
    "        cipher = Cipher(algorithms.AES(key), modes.GCM(iv), backend=default_backend()).encryptor() #Galois Counter Mode\n",
    "        cipher.authenticate_additional_data(metadata) #autenticação dos metadados adicionais\n",
    "        ciphertext = cipher.update(plaintext) + cipher.finalize()\n",
    "        print(ciphertext)\n",
    "        obj = {'mess' : ciphertext , 'tag' : tag , 'tag_cipher' : cipher.tag, 'iv' : iv} #campos da mensagem para mandar ao Receiver\n",
    "        conn.send(obj)  \n",
    "    except:\n",
    "        print(\"Erro no emissor\")\n",
    "        \n",
    "    conn.close()\n",
    "            \n",
    "    \n",
    "def Receiver(conn):\n",
    "    \n",
    "    password = bytes(getpass('Password do recetor: '),'utf-8')\n",
    "    \n",
    "\n",
    "    try:\n",
    "        obj = conn.recv()\n",
    "        ciphertext = obj['mess']\n",
    "        tag = obj['tag']\n",
    "        tag_cipher = obj['tag_cipher']\n",
    "        iv = obj['iv']\n",
    "        key = kdf(my_salt).derive(password)\n",
    "        \n",
    "        cipher = Cipher(algorithms.AES(key), modes.GCM(iv,tag_cipher), backend=default_backend()).decryptor()\n",
    "        cipher.authenticate_additional_data(metadata)\n",
    "        plaintext = cipher.update(ciphertext) + cipher.finalize() #obter a mensagem inicial\n",
    "\n",
    "        if tag == mac(Hash(key),plaintext): #comparação das tags\n",
    "            print('Mensagem decifrada:',plaintext) #tags iguais\n",
    "        else:\n",
    "            print('Tags diferentes') #tags diferentes\n",
    "    except:\n",
    "        print('FAIL')\n",
    "        \n",
    "    conn.close()"
   ]
  },
  {
   "cell_type": "code",
   "execution_count": 9,
   "metadata": {},
   "outputs": [
    {
     "name": "stdout",
     "output_type": "stream",
     "text": [
      "Password do emissor:········\n",
      "Mensagem a cifrar:uma mensagem\n",
      "b' \\x93\\xf6 \\xbaH4\\xd9t\\x80\\x90p'\n",
      "Password do recetor: ········\n",
      "Mensagem decifrada: b'uma mensagem'\n"
     ]
    }
   ],
   "source": [
    "BiConn(Emitter,Receiver, timeout=30).manual()"
   ]
  },
  {
   "cell_type": "code",
   "execution_count": null,
   "metadata": {},
   "outputs": [],
   "source": []
  }
 ],
 "metadata": {
  "kernelspec": {
   "display_name": "Python 3",
   "language": "python",
   "name": "python3"
  },
  "language_info": {
   "codemirror_mode": {
    "name": "ipython",
    "version": 3
   },
   "file_extension": ".py",
   "mimetype": "text/x-python",
   "name": "python",
   "nbconvert_exporter": "python",
   "pygments_lexer": "ipython3",
   "version": "3.6.3"
  }
 },
 "nbformat": 4,
 "nbformat_minor": 1
}
