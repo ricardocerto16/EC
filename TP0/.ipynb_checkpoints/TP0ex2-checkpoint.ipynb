{
 "cells": [
  {
   "cell_type": "code",
   "execution_count": 18,
   "metadata": {},
   "outputs": [],
   "source": [
    "import os, lorem, sys\n",
    "from getpass import *\n",
    "from multiprocessing import Process, Pipe\n",
    "from pickle import *\n",
    "from base64 import b64encode, b64decode\n",
    "\n",
    "class BiConn(object):\n",
    "    def __init__(self,left,right,timeout=None):\n",
    "        \"\"\"\n",
    "        left : a função que vei ligar ao lado esquerdo do Pipe\n",
    "        right: a função que vai ligar ao outro lado\n",
    "        timeout: (opcional) numero de segundos que aguarda pela terminação do processo\n",
    "        \"\"\"\n",
    "        left_end, right_end = Pipe()\n",
    "        self.timeout=timeout\n",
    "        self.lproc = Process(target=left, args=(left_end,))       # os processos ligados ao Pipe\n",
    "        self.rproc = Process(target=right, args=(right_end,))\n",
    "        self.left  = lambda : left(left_end)                       # as funções ligadas já ao Pipe\n",
    "        self.right = lambda : right(right_end)\n",
    "\n",
    "    def auto(self, proc=None):\n",
    "        if proc == None:             # corre os dois processos independentes\n",
    "            self.lproc.start()\n",
    "            self.rproc.start()\n",
    "            self.lproc.join(self.timeout)\n",
    "            self.rproc.join(self.timeout)\n",
    "        else:                        # corre só o processo passado como parâmetro\n",
    "            proc.start(); proc.join()\n",
    "\n",
    "    def manual(self):   #  corre as duas funções no contexto de um mesmo processo Python\n",
    "        self.left()\n",
    "        self.right()"
   ]
  },
  {
   "cell_type": "code",
   "execution_count": 17,
   "metadata": {},
   "outputs": [],
   "source": [
    "from cryptography.hazmat.primitives.kdf.pbkdf2 import PBKDF2HMAC\n",
    "from cryptography.hazmat.primitives import hashes\n",
    "from cryptography.hazmat.primitives.ciphers import Cipher, algorithms, modes\n",
    "from cryptography.hazmat.backends import default_backend\n",
    "from cryptography.hazmat.primitives.ciphers.aead import AESGCM\n",
    "\n",
    "default_algorithm = hashes.SHA256\n",
    "\n",
    "\n",
    "def Hash(s):\n",
    "    digest = hashes.Hash(default_algorithm(),backend=default_backend())\n",
    "    digest.update(s)\n",
    "    return digest.finalize()\n",
    "\n",
    "# KDF\n",
    "\n",
    "def kdf(salt):\n",
    "    return PBKDF2HMAC(\n",
    "        algorithm=default_algorithm(),   # SHA256  \n",
    "        length=32,\n",
    "        salt=salt, \n",
    "        iterations=100000,\n",
    "        backend=default_backend()        # openssl\n",
    "        )\n",
    "\n",
    "def mac(key,source, tag=None):\n",
    "    h = hmac.HMAC(key,default_algorithm(),default_backend())\n",
    "    h.update(source)\n",
    "    if tag == None:\n",
    "        return h.finalize()\n",
    "    h.verify(tag)"
   ]
  },
  {
   "cell_type": "code",
   "execution_count": 15,
   "metadata": {},
   "outputs": [],
   "source": [
    "my_salt=os.urandom(16)\n",
    "\n",
    "def Emitter(conn):\n",
    "    password=bytes(getpass('Password do emissor:'),'utf-8')\n",
    "    plaintext = bytes(input('Mensagem a cifrar:'), 'utf-8')\n",
    "\n",
    "    \n",
    "    try:\n",
    "        key = kdf(my_salt).derive(password)\n",
    "        print(\"chave\")\n",
    "        tag=mac(key,plaintext)\n",
    "        print(\"tag\")\n",
    "        aesgcm=AESGCM(key)\n",
    "        print(\"aesgcm\")\n",
    "        ciphertext=aesgcm.encrypt(my_salt,mensagem,tag)\n",
    "        print(\"ciphertext\")\n",
    "        \n",
    "        obj = {'mess' : ciphertext , 'tag': tag}\n",
    "        conn.send(obj)  \n",
    "    except:\n",
    "        print(\"Erro no emissor\")\n",
    "        \n",
    "    conn.close()\n",
    "            \n",
    "    \n",
    "def Receiver(conn):\n",
    "    \n",
    "    password = bytes(getpass('Password do recetor: '),'utf-8')\n",
    "    \n",
    "\n",
    "    try:\n",
    "        obj = conn.recv()\n",
    "        ciphertext = obj['mess']\n",
    "        tag = obj['tag']\n",
    "        key = kdf(my_salt).derive(password)\n",
    "\n",
    "        if tag == mac(key,key):\n",
    "            aesgcm=AESGCM(key)\n",
    "            mensagem=aesgcm.decrypt(my_salt,ciphertext,tag) #tag equivale aos metadados\n",
    "            print('Mensagem decifrada:',mensagem)\n",
    "        else:\n",
    "            print('Tags diferentes')\n",
    "    except:\n",
    "        print('FAIL')\n",
    "        \n",
    "    conn.close()"
   ]
  },
  {
   "cell_type": "code",
   "execution_count": 16,
   "metadata": {},
   "outputs": [
    {
     "name": "stdout",
     "output_type": "stream",
     "text": [
      "Password do emissor:········\n",
      "Mensagem a cifrar:mensagem\n",
      "chave\n",
      "Erro no emissor\n",
      "Password do recetor: ········\n",
      "FAIL\n"
     ]
    }
   ],
   "source": [
    "BiConn(Emitter,Receiver, timeout=30).manual()"
   ]
  },
  {
   "cell_type": "code",
   "execution_count": null,
   "metadata": {},
   "outputs": [],
   "source": []
  }
 ],
 "metadata": {
  "kernelspec": {
   "display_name": "Python 3",
   "language": "python",
   "name": "python3"
  },
  "language_info": {
   "codemirror_mode": {
    "name": "ipython",
    "version": 3
   },
   "file_extension": ".py",
   "mimetype": "text/x-python",
   "name": "python",
   "nbconvert_exporter": "python",
   "pygments_lexer": "ipython3",
   "version": "3.6.3"
  }
 },
 "nbformat": 4,
 "nbformat_minor": 1
}
